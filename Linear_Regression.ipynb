  {
   "cell_type": "code",
   "execution_count": 1,
   "metadata": {},
   "outputs": [],
   "source": [
    "import numpy as np \n",
    "import pandas as pd\n",
    "from math import sqrt\n",
    "from scipy.stats import skew\n",
    "import matplotlib.pyplot as plt\n",
    "from sklearn import linear_model\n",
    "from sklearn import preprocessing\n",
    "from sklearn.model_selection import train_test_split\n",
    "from sklearn.metrics import mean_absolute_error, mean_squared_error\n",
    "import seaborn as sns\n"
   ]
  },
  {
   "cell_type": "code",
   "execution_count": 57,
   "metadata": {},
   "outputs": [],
   "source": [
    "x_train=np.array([[1,2],[3,4],[5,6]])\n",
    "y_train=np.array([10,11,12])"
   ]
  },
  {
   "cell_type": "code",
   "execution_count": 58,
   "metadata": {},
   "outputs": [
    {
     "data": {
      "text/plain": [
       "np.float64(3.5)"
      ]
     },
     "execution_count": 58,
     "metadata": {},
     "output_type": "execute_result"
    }
   ],
   "source": [
    "def costFunction(weights,x_train,y_train,intercept):\n",
    "    #print(np.multiply(weights,x_train))\n",
    "    m=x_train.shape[0]\n",
    "    mainFunc=np.sum(np.multiply(weights,x_train),axis=1)+intercept\n",
    "    costfunction=(y_train-mainFunc)**2\n",
    "    return np.sum(costfunction)*(1/(2*m))\n",
    "#costFunction(weights,x_train=X_train,y_train=y_train,intercept=5,m=X_train.shape[0])\n",
    "\n",
    "\n",
    "costFunction([1]*x_train.shape[1], x_train=x_train,y_train=y_train,intercept=5)"
   ]
  },
  {
   "cell_type": "code",
   "execution_count": null,
   "metadata": {},
   "outputs": [],
   "source": [
    "n(weights,x_train,y_train,intercept):\n",
    "    #print(np.multiply(weights,x_train))\n",
    "    m=x_train.shape[0]\n",
    "    mainFunc=np.sum(np.multiply(weights,x_train),axis=1)+intercept\n",
    "    costfunction=(y_train-mainFunc)**2\n",
    "    return np.sum(costfunction)*(1/(2*m))\n",
    "#costFunction(weights,x_train=X_train,y_train=y_train,intercept=5,m=X_train.shape[0])\n",
    "\n",
    "\n",
    "costFunction([1]*x_train.shape[1], x_train=x_train,y_train=y_train,intercept=5)"
   ]
  },
  {
   "cell_type": "code",
   "execution_count": 99,
   "metadata": {},
   "outputs": [
    {
     "data": {
      "text/plain": [
       "(np.float64(1.0), array([7., 8.]))"
      ]
     },
     "execution_count": 99,
     "metadata": {},
     "output_type": "execute_result"
    }
   ],
   "source": [
    "def gradientDescent(weights,x_train,y_train,intercept):\n",
    "    m=x_train.shape[0]\n",
    "    mainFunc=np.sum(np.multiply(weights,x_train),axis=1)-y_train+intercept\n",
    "    modified= x_train.copy() * mainFunc.reshape(-1,1)\n",
    "    df_dw=np.sum(modified,axis=0)*(1/m)\n",
    "    df_db=np.sum(mainFunc)*(1/m)\n",
    "    return df_db , df_dw \n",
    "\n",
    "gradientDescent([1]*2, x_train=x_train,y_train=y_train,intercept=5)\n"
   ]
  },
  {
   "cell_type": "code",
   "execution_count": 103,
   "metadata": {},
   "outputs": [],
   "source": [
    "def linearRegression(weights,x_train,y_train,intercept,iterations:int=20000,alpha:float=0.01):\n",
    "    m=x_train.shape[0]\n",
    "    history=[]\n",
    "    for i in range(iterations):\n",
    "        b ,w =gradientDescent(weights=weights,x_train=x_train,y_train=y_train,intercept=intercept)\n",
    "        weights=weights-alpha*w\n",
    "        intercept=intercept-alpha*b\n",
    "        history.append(costFunction(x_train=x_train,y_train=y_train,weights=weights,intercept=intercept))\n",
    "    return weights,intercept,history\n",
    "#linearRegression(x_train=np.array([[1,2],[3,4],[5,6]]), y_train=np.array([10,11,12]),weights=[1]*2,intercept=5)"
   ]
  },
  {
   "cell_type": "code",
   "execution_count": 104,
   "metadata": {},
   "outputs": [
    {
     "data": {
      "text/plain": [
       "<Axes: >"
      ]
     },
     "execution_count": 104,
     "metadata": {},
     "output_type": "execute_result"
    },
    {
     "data": {
      "image/png": "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",
      "text/plain": [
       "<Figure size 640x480 with 1 Axes>"
      ]
     },
     "metadata": {},
     "output_type": "display_data"
    }
   ],
   "source": [
    "weights,intercept,history=linearRegression(x_train=np.array([[1,2],[3,4],[5,6]]), y_train=np.array([10,11,12]),weights=[1]*2,intercept=5)\n",
    "func=np.sum(np.multiply(x_train, weights),axis=1)+intercept\n",
    "sns.scatterplot(func)\n",
    "\n"
   ]
  },
  {
   "cell_type": "code",
   "execution_count": null,
   "metadata": {},
   "outputs": [],
   "source": [
    "sns.scatterplot(y_train)"
   ]
  }
 ],
 "metadata": {
  "kernelspec": {
   "display_name": "Python 3 (ipykernel)",
   "language": "python",
   "name": "python3"
  },
  "language_info": {
   "codemirror_mode": {
    "name": "ipython",
    "version": 3
   },
   "file_extension": ".py",
   "mimetype": "text/x-python",
   "name": "python",
   "nbconvert_exporter": "python",
   "pygments_lexer": "ipython3",
   "version": "3.11.4"
  }
 },
 "nbformat": 4,
 "nbformat_minor": 4
}
