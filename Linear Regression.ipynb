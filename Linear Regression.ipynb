{
 "cells": [
  {
   "cell_type": "code",
   "execution_count": 20,
   "metadata": {},
   "outputs": [],
   "source": [
    "import numpy as np \n",
    "import seaborn as sns\n",
    "x_train=np.array([[1,2],[3,4],[5,6]])\n",
    "y_train=np.array([10,11,12])"
   ]
  },
  {
   "cell_type": "code",
   "execution_count": 21,
   "metadata": {},
   "outputs": [
    {
     "data": {
      "text/plain": [
       "np.float64(3.5)"
      ]
     },
     "execution_count": 21,
     "metadata": {},
     "output_type": "execute_result"
    }
   ],
   "source": [
    "def costFunction (weights,x_train,y_train,intercept):\n",
    "    m=x_train.shape[0]\n",
    "    mainFunc=np.sum(np.multiply(weights,x_train),axis=1)+intercept\n",
    "    costfunction=(y_train-mainFunc)**2\n",
    "    return np.sum(costfunction)*(1/(2*m))\n",
    "\n",
    "costFunction([1]*x_train.shape[1], x_train=x_train,y_train=y_train,intercept=5)\n"
   ]
  },
  {
   "cell_type": "code",
   "execution_count": 22,
   "metadata": {},
   "outputs": [
    {
     "data": {
      "text/plain": [
       "(np.float64(1.0), array([7., 8.]))"
      ]
     },
     "execution_count": 22,
     "metadata": {},
     "output_type": "execute_result"
    }
   ],
   "source": [
    "\n",
    "def gradientDescent(weights,x_train,y_train,intercept):\n",
    "    m=x_train.shape[0]\n",
    "    mainFunc=np.sum(np.multiply(weights,x_train),axis=1)-y_train+intercept\n",
    "    modified= x_train.copy() * mainFunc.reshape(-1,1)\n",
    "    df_dw=np.sum(modified,axis=0)*(1/m)\n",
    "    df_db=np.sum(mainFunc)*(1/m)\n",
    "    return df_db , df_dw \n",
    "\n",
    "gradientDescent([1]*2, x_train=x_train,y_train=y_train,intercept=5)\n"
   ]
  },
  {
   "cell_type": "code",
   "execution_count": 23,
   "metadata": {},
   "outputs": [],
   "source": [
    "\n",
    "def linearRegression(weights,x_train,y_train,intercept,iterations:int=20000,alpha:float=0.01):\n",
    "    m=x_train.shape[0]\n",
    "    history=[]\n",
    "    for i in range(iterations):\n",
    "        b ,w =gradientDescent(weights=weights,x_train=x_train,y_train=y_train,intercept=intercept)\n",
    "        weights=weights-alpha*w\n",
    "        intercept=intercept-alpha*b\n",
    "        history.append(costFunction(x_train=x_train,y_train=y_train,weights=weights,intercept=intercept))\n",
    "    return weights,intercept,history\n",
    "\n",
    "weights,intercept,history=linearRegression(x_train=np.array([[1,2],[3,4],[5,6]]), y_train=np.array([10,11,12]),weights=[1]*2,intercept=5)\n",
    "func=np.sum(np.multiply(x_train, weights),axis=1)+intercept\n"
   ]
  }
 ],
 "metadata": {
  "kernelspec": {
   "display_name": "venv",
   "language": "python",
   "name": "python3"
  },
  "language_info": {
   "codemirror_mode": {
    "name": "ipython",
    "version": 3
   },
   "file_extension": ".py",
   "mimetype": "text/x-python",
   "name": "python",
   "nbconvert_exporter": "python",
   "pygments_lexer": "ipython3",
   "version": "3.11.4"
  }
 },
 "nbformat": 4,
 "nbformat_minor": 2
}
